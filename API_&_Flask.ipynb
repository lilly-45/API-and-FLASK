{
  "nbformat": 4,
  "nbformat_minor": 0,
  "metadata": {
    "colab": {
      "provenance": []
    },
    "kernelspec": {
      "name": "python3",
      "display_name": "Python 3"
    },
    "language_info": {
      "name": "python"
    }
  },
  "cells": [
    {
      "cell_type": "markdown",
      "source": [
        "# Restful API & Flask"
      ],
      "metadata": {
        "id": "X-Mj4ZkRL4nN"
      }
    },
    {
      "cell_type": "code",
      "execution_count": null,
      "metadata": {
        "id": "1-0YMai3L2E9"
      },
      "outputs": [],
      "source": [
        "# Theoritical questions"
      ]
    },
    {
      "cell_type": "markdown",
      "source": [
        "1. What is a RESTful API?\n",
        "\n",
        "  -> A RESTful API is an API that adheres to REST (Representational State Transfer) principles. It uses HTTP methods (GET, POST, PUT, DELETE) to perform CRUD operations and is stateless, scalable, and resource-based.\n",
        "\n",
        "2. Explain the concept of API specification.\n",
        "\n",
        "   -> An API specification defines how an API behaves and includes endpoints, request/response formats, parameters, authentication methods, and error codes. Examples: OpenAPI, Swagger.\n",
        "\n",
        "3. What is Flask, and why is it popular for building APIs?\n",
        "\n",
        "   -> Flask is a lightweight Python web framework. It's popular because it's simple, flexible, supports RESTful routing, and integrates well with extensions for databases, authentication, and more.\n",
        "\n",
        "4. What is routing in Flask?\n",
        "\n",
        "  -> Routing in Flask refers to mapping URLs to Python functions using the @app.route() decorator. It defines which function should run when a user visits a specific URL.\n",
        "\n",
        "5. How do you create a simple Flask application?\n",
        "\n",
        " ->  from flask import Flask  \n",
        "     app = Flask(__name__)  \n",
        "  \n",
        "  @app.route(\"/\")  \n",
        "  def home():  \n",
        "    return \"Hello, Flask!\"  \n",
        "  \n",
        "   if __name__ == \"__main__\":  \n",
        "    app.run(debug=True)\n",
        "\n",
        "6. What are HTTP methods used in RESTful APIs?\n",
        "\n",
        " -> GET: Retrieve data\n",
        "\n",
        "   POST: Create new data\n",
        "\n",
        "   PUT: Update existing data\n",
        "\n",
        "   DELETE: Remove data\n",
        "\n",
        "   PATCH: Partial update\n",
        "\n",
        "7. What is the purpose of the @app.route() decorator in Flask?\n",
        "\n",
        "   -> It binds a URL to a function, allowing Flask to know which function to run when a specific endpoint is requested.\n",
        "\n",
        "8. What is the difference between GET and POST HTTP methods?\n",
        "  \n",
        "  -> GET: Retrieves data, parameters passed in URL, idempotent.\n",
        "\n",
        "   POST: Sends data to server, parameters in body, used for creating resources.\n",
        "\n",
        "9. How do you handle errors in Flask APIs?\n",
        "Using error handlers:\n",
        "\n",
        " -> @app.errorhandler(404)  \n",
        "  def not_found(e):  \n",
        "    return {\"error\": \"Not found\"}, 404\n",
        "\n",
        "10. How do you connect Flask to a SQL database?\n",
        "Using SQLAlchemy:\n",
        "\n",
        "  -> from flask_sqlalchemy import SQLAlchemy  \n",
        "   app.config['SQLALCHEMY_DATABASE_URI'] = 'sqlite:///data.db'  \n",
        "   db = SQLAlchemy(app)\n",
        "\n",
        "11. What is the role of Flask-SQLAlchemy?\n",
        "\n",
        "   -> It's an ORM extension that simplifies database interactions. It allows you to use Python classes to represent tables and perform queries.\n",
        "\n",
        "12. What are Flask blueprints, and how are they useful?\n",
        "\n",
        "  -> Blueprints are a way to organize a Flask app into reusable components or modules, making the app more scalable and modular.\n",
        "\n",
        "13. What is the purpose of Flask’s request object?\n",
        "\n",
        "   -> It allows access to incoming request data like form inputs, JSON payloads, headers, and query parameters.\n",
        "\n",
        "14. How do you create a RESTful API endpoint using Flask?\n",
        "\n",
        "  -> @app.route('/users/<int:id>', methods=['GET'])  \n",
        "   def get_user(id):  \n",
        "    return {\"id\": id, \"name\": \"User\"}\n",
        "\n",
        "15. What is the purpose of Flask’s jsonify() function?\n",
        "\n",
        "   -> jsonify() converts Python dictionaries to JSON responses with proper MIME type (application/json).\n",
        "\n",
        "16. Explain Flask’s url_for() function.\n",
        "\n",
        "-> It dynamically generates URLs for a given function name, making the app easier to maintain:\n",
        "\n",
        " -> url_for('home')  # returns \"/\"\n",
        "\n",
        "17. How does Flask handle static files (CSS, JavaScript, etc.)?\n",
        "Flask automatically serves files from the static/ folder:\n",
        "\n",
        "-> <link rel=\"stylesheet\" href=\"{{ url_for('static', filename='style.css') }}\">\n",
        "\n",
        "18. What is an API specification, and how does it help in building a Flask API?\n",
        "\n",
        " -> It provides a clear structure for endpoints, expected inputs/outputs, and helps in auto-generating docs and validations (e.g., Swagger/OpenAPI).\n",
        "\n",
        "19. What are HTTP status codes, and why are they important in a Flask API?\n",
        "Status codes indicate the result of an HTTP request:\n",
        "\n",
        "  -> 200 OK\n",
        "\n",
        "  201 Created\n",
        "\n",
        " 400 Bad Request\n",
        "\n",
        " 404 Not Found\n",
        "\n",
        " 500 Internal Server Error\n",
        "\n",
        "They help clients understand the outcome of API calls.\n",
        "\n",
        "20. How do you handle POST requests in Flask.\n",
        "\n",
        "  -> @app.route('/data', methods=['POST'])  \n",
        "   def post_data():  \n",
        "    data = request.get_json()  \n",
        "    return jsonify(data), 201\n",
        "\n",
        "21. How would you secure a Flask API?\n",
        "\n",
        "  -> Use authentication (JWT, OAuth)\n",
        "\n",
        "   Use HTTPS\n",
        "\n",
        "   Validate input\n",
        "\n",
        "   Limit request rates\n",
        "\n",
        "  Use Flask extensions like Flask-JWT, Flask-Login\n",
        "\n",
        "22. What is the significance of the Flask-RESTful extension?\n",
        "\n",
        "   -> It helps build REST APIs quickly by providing resource-based routing, request parsing, and easy error handling.\n",
        "\n",
        "23. What is the role of Flask’s session object?\n",
        "\n",
        "   -> It stores data across requests for a user using cookies (securely signed). Useful for storing login states or temporary data.\n",
        "\n"
      ],
      "metadata": {
        "id": "fdOqR6vvM0S9"
      }
    },
    {
      "cell_type": "code",
      "source": [
        "# Practical questions"
      ],
      "metadata": {
        "id": "5lVO95adWx6U"
      },
      "execution_count": null,
      "outputs": []
    },
    {
      "cell_type": "markdown",
      "source": [
        "1. How do you create a basic Flask application?"
      ],
      "metadata": {
        "id": "jj4yVDeQW47o"
      }
    },
    {
      "cell_type": "code",
      "source": [
        "from flask import Flask\n",
        "app = Flask(__name__)\n",
        "\n",
        "@app.route('/')\n",
        "def home():\n",
        "    return 'Hello, Flask!'\n",
        "\n",
        "if __name__ == '__main__':\n",
        "    app.run(debug=True)\n"
      ],
      "metadata": {
        "colab": {
          "base_uri": "https://localhost:8080/"
        },
        "id": "NkFHLVL2XVZK",
        "outputId": "d23314ab-f630-4a4f-e1f3-95cdb46bbca7"
      },
      "execution_count": null,
      "outputs": [
        {
          "metadata": {
            "tags": null
          },
          "name": "stdout",
          "output_type": "stream",
          "text": [
            " * Serving Flask app '__main__'\n",
            " * Debug mode: on\n"
          ]
        },
        {
          "metadata": {
            "tags": null
          },
          "name": "stderr",
          "output_type": "stream",
          "text": [
            "INFO:werkzeug:\u001b[31m\u001b[1mWARNING: This is a development server. Do not use it in a production deployment. Use a production WSGI server instead.\u001b[0m\n",
            " * Running on http://127.0.0.1:5000\n",
            "INFO:werkzeug:\u001b[33mPress CTRL+C to quit\u001b[0m\n",
            "INFO:werkzeug: * Restarting with stat\n"
          ]
        }
      ]
    },
    {
      "cell_type": "markdown",
      "source": [
        "2. How do you serve static files like images or CSS in Flask?\n"
      ],
      "metadata": {
        "id": "VSnu-foXZUAq"
      }
    },
    {
      "cell_type": "code",
      "source": [
        "<link rel=\"stylesheet\" href=\"{{ url_for('static', filename='style.css') }}\">\n"
      ],
      "metadata": {
        "id": "EZRYnJhFXb71"
      },
      "execution_count": null,
      "outputs": []
    },
    {
      "cell_type": "markdown",
      "source": [
        "3. How do you define different routes with different HTTP methods in Flask?"
      ],
      "metadata": {
        "id": "IkiZvsTbPNtc"
      }
    },
    {
      "cell_type": "code",
      "source": [
        "from flask import Flask, request\n",
        "\n",
        "app = Flask(__name__)\n",
        "\n",
        "@app.route('/submit', methods=['GET', 'POST'])\n",
        "def submit():\n",
        "    if request.method == 'POST':\n",
        "        return 'Form submitted!'\n",
        "    return 'Form page'\n",
        "\n",
        "# You can run this app later by adding the following lines in a new cell:\n",
        "# if __name__ == '__main__':\n",
        "#     app.run(debug=True)"
      ],
      "metadata": {
        "id": "QNuPYjYrZ80T"
      },
      "execution_count": null,
      "outputs": []
    },
    {
      "cell_type": "markdown",
      "source": [
        "4. How do you render HTML templates in Flask?\n"
      ],
      "metadata": {
        "id": "CATZlF8nRorW"
      }
    },
    {
      "cell_type": "code",
      "source": [
        "from flask import render_template\n",
        "@app.route('/about')\n",
        "def about():\n",
        "    return render_template('about.html')\n"
      ],
      "metadata": {
        "id": "a4KuXuFfPyio"
      },
      "execution_count": null,
      "outputs": []
    },
    {
      "cell_type": "markdown",
      "source": [
        "5. How can you generate URLs for routes in Flask using url_for()?"
      ],
      "metadata": {
        "id": "DPJl46jwSqjY"
      }
    },
    {
      "cell_type": "code",
      "source": [
        "from flask import Flask, redirect, url_for\n",
        "\n",
        "app = Flask(__name__)\n",
        "\n",
        "@app.route('/profile')\n",
        "def profile():\n",
        "    return redirect(url_for('home'))  # generates URL for home() function"
      ],
      "metadata": {
        "id": "FpfOeTU6Sigs"
      },
      "execution_count": 2,
      "outputs": []
    },
    {
      "cell_type": "markdown",
      "source": [
        "6. How do you handle forms in Flask?"
      ],
      "metadata": {
        "id": "szgce_ewZWuB"
      }
    },
    {
      "cell_type": "code",
      "source": [
        "from flask import Flask, request, render_template\n",
        "\n",
        "app = Flask(__name__)\n",
        "\n",
        "@app.route('/login', methods=['GET', 'POST'])\n",
        "def login():\n",
        "    if request.method == 'POST':\n",
        "        username = request.form['username']\n",
        "        if not username:\n",
        "            return 'Username required'\n",
        "        return f'Welcome {username}'\n",
        "    return render_template('login.html')"
      ],
      "metadata": {
        "id": "Ft54cxy6ZFaA"
      },
      "execution_count": 5,
      "outputs": []
    },
    {
      "cell_type": "markdown",
      "source": [
        "7. How can you validate form data in Flask?\n"
      ],
      "metadata": {
        "id": "ZNhZ9BW3bAuH"
      }
    },
    {
      "cell_type": "code",
      "source": [
        "if not username:\n",
        "    return 'Username required'\n"
      ],
      "metadata": {
        "id": "sr5cLMuzbRv7"
      },
      "execution_count": null,
      "outputs": []
    },
    {
      "cell_type": "markdown",
      "source": [
        "8. How do you manage sessions in Flask?"
      ],
      "metadata": {
        "id": "AeldsmOjdKGP"
      }
    },
    {
      "cell_type": "code",
      "source": [
        "from flask import session\n",
        "app.secret_key = 'your_secret_key'\n",
        "\n",
        "@app.route('/set')\n",
        "def set_session():\n",
        "    session['user'] = 'admin'\n",
        "    return 'Session set'\n",
        "\n",
        "@app.route('/get')\n",
        "def get_session():\n",
        "    return session.get('user')\n"
      ],
      "metadata": {
        "id": "jN-QhbXLdUI0"
      },
      "execution_count": 10,
      "outputs": []
    },
    {
      "cell_type": "markdown",
      "source": [
        "9. How do you redirect to a different route in Flask?"
      ],
      "metadata": {
        "id": "142YmtF3dion"
      }
    },
    {
      "cell_type": "code",
      "source": [
        "from flask import redirect, url_for\n",
        "@app.route('/old')\n",
        "def old():\n",
        "    return redirect(url_for('new'))\n",
        "\n",
        "@app.route('/new')\n",
        "def new():\n",
        "    return 'New Page'\n"
      ],
      "metadata": {
        "id": "mv9YbLiadbKB"
      },
      "execution_count": 11,
      "outputs": []
    },
    {
      "cell_type": "markdown",
      "source": [
        "10. How do you handle errors in Flask (e.g., 404)?"
      ],
      "metadata": {
        "id": "KmD_JJuodzZZ"
      }
    },
    {
      "cell_type": "code",
      "source": [
        "@app.errorhandler(404)\n",
        "def not_found(e):\n",
        "    return 'Page not found', 404\n"
      ],
      "metadata": {
        "id": "M555rmlIdxWB"
      },
      "execution_count": 12,
      "outputs": []
    },
    {
      "cell_type": "markdown",
      "source": [
        "11. How do you structure a Flask app using Blueprints?"
      ],
      "metadata": {
        "id": "Re4hT1tDecQm"
      }
    },
    {
      "cell_type": "code",
      "metadata": {
        "id": "9787bb18"
      },
      "source": [
        "# In user.py\n",
        "from flask import Blueprint\n",
        "user_bp = Blueprint('user', __name__)\n",
        "\n",
        "@user_bp.route('/profile')\n",
        "def profile():\n",
        "    return 'User profile'"
      ],
      "execution_count": 14,
      "outputs": []
    },
    {
      "cell_type": "markdown",
      "source": [
        "12. How do you define a custom Jinja filter in Flask?"
      ],
      "metadata": {
        "id": "6hJN9eFsfABq"
      }
    },
    {
      "cell_type": "code",
      "source": [
        "@app.template_filter('reverse')\n",
        "def reverse_filter(s):\n",
        "    return s[::-1]\n"
      ],
      "metadata": {
        "id": "iVX1SIlgfJ7c"
      },
      "execution_count": 15,
      "outputs": []
    },
    {
      "cell_type": "markdown",
      "source": [
        "13. How can you redirect with query parameters in Flask?"
      ],
      "metadata": {
        "id": "w8pGBxqDhCnA"
      }
    },
    {
      "cell_type": "code",
      "source": [
        "@app.route('/search')\n",
        "def search():\n",
        "    return redirect(url_for('results', q='flask'))\n",
        "\n",
        "@app.route('/results')\n",
        "def results():\n",
        "    query = request.args.get('q')\n",
        "    return f'Searching for: {query}'\n"
      ],
      "metadata": {
        "id": "Fg4xI9EzjDNU"
      },
      "execution_count": 19,
      "outputs": []
    },
    {
      "cell_type": "markdown",
      "source": [
        "14. How do you return JSON responses in Flask?"
      ],
      "metadata": {
        "id": "DVNbzpwCjM_x"
      }
    },
    {
      "cell_type": "code",
      "source": [
        "from flask import jsonify\n",
        "@app.route('/data_json')\n",
        "def data_json():\n",
        "    return jsonify({\"name\": \"Diyya\", \"age\": 23})"
      ],
      "metadata": {
        "id": "OTfZg7dPioms"
      },
      "execution_count": 21,
      "outputs": []
    },
    {
      "cell_type": "markdown",
      "source": [
        "15. How do you capture URL parameters in Flask?"
      ],
      "metadata": {
        "id": "K4xlS1A0j7wo"
      }
    },
    {
      "cell_type": "code",
      "source": [
        "@app.route('/user/<username>')\n",
        "def show_user(username):\n",
        "    return f'User: {username}'\n"
      ],
      "metadata": {
        "id": "tnPbM6_Ljpmw"
      },
      "execution_count": 22,
      "outputs": []
    }
  ]
}